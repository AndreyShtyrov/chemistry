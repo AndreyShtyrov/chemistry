{
 "cells": [
  {
   "cell_type": "code",
   "execution_count": 22,
   "metadata": {
    "collapsed": false
   },
   "outputs": [],
   "source": [
    "from math import *\n",
    "\n",
    "import numpy as np\n",
    "import scipy as sp\n",
    "\n",
    "import scipy.linalg\n",
    "\n",
    "np.set_printoptions(precision=3)"
   ]
  },
  {
   "cell_type": "code",
   "execution_count": 13,
   "metadata": {
    "collapsed": false
   },
   "outputs": [],
   "source": [
    "def gen_selftrans(n):\n",
    "    a = np.random.randn(n, n) * 5\n",
    "    a = (a + a.T) / 2\n",
    "    return a\n",
    "\n",
    "def lower_triangle(n):\n",
    "    a = np.random.randn(n, n) * 5\n",
    "    for i in range(n):\n",
    "        for j in range(i + 1, n):\n",
    "            a[i, j] = 0\n",
    "    return a\n",
    "\n",
    "n = 5\n",
    "a = gen_selftrans(n)"
   ]
  },
  {
   "cell_type": "code",
   "execution_count": 14,
   "metadata": {
    "collapsed": false
   },
   "outputs": [
    {
     "name": "stdout",
     "output_type": "stream",
     "text": [
      "[[ 3.96  3.7   1.42  1.31  5.51]\n",
      " [ 3.7  -0.29 -6.93  7.28 -3.17]\n",
      " [ 1.42 -6.93 -1.99  2.26  4.76]\n",
      " [ 1.31  7.28  2.26  2.05 -2.92]\n",
      " [ 5.51 -3.17  4.76 -2.92 -6.29]]\n",
      "[[ 3.96  3.7   1.42  1.31  5.51]\n",
      " [ 3.7  -0.29 -6.93  7.28 -3.17]\n",
      " [ 1.42 -6.93 -1.99  2.26  4.76]\n",
      " [ 1.31  7.28  2.26  2.05 -2.92]\n",
      " [ 5.51 -3.17  4.76 -2.92 -6.29]]\n"
     ]
    }
   ],
   "source": [
    "print(a)\n",
    "print(a.dot(np.eye(n).T))"
   ]
  },
  {
   "cell_type": "code",
   "execution_count": 4,
   "metadata": {
    "collapsed": false
   },
   "outputs": [
    {
     "name": "stdout",
     "output_type": "stream",
     "text": [
      "[[0 1]\n",
      " [1 0]]\n"
     ]
    }
   ],
   "source": [
    "n = 2\n",
    "a = np.array([[0, 1], [1, 0]])\n",
    "print(a)"
   ]
  },
  {
   "cell_type": "code",
   "execution_count": 7,
   "metadata": {
    "collapsed": false
   },
   "outputs": [
    {
     "data": {
      "text/plain": [
       "array([[0, 1],\n",
       "       [1, 0]])"
      ]
     },
     "execution_count": 7,
     "metadata": {},
     "output_type": "execute_result"
    }
   ],
   "source": [
    "a"
   ]
  },
  {
   "cell_type": "code",
   "execution_count": 21,
   "metadata": {
    "collapsed": false
   },
   "outputs": [
    {
     "ename": "NameError",
     "evalue": "name 'math' is not defined",
     "output_type": "error",
     "traceback": [
      "\u001b[0;31m------------------------------------------------------------------------\u001b[0m",
      "\u001b[0;31mNameError\u001b[0m                              Traceback (most recent call last)",
      "\u001b[0;32m<ipython-input-21-f14a974ac4e4>\u001b[0m in \u001b[0;36m<module>\u001b[0;34m()\u001b[0m\n\u001b[1;32m     24\u001b[0m \u001b[0;34m\u001b[0m\u001b[0m\n\u001b[1;32m     25\u001b[0m \u001b[0;34m\u001b[0m\u001b[0m\n\u001b[0;32m---> 26\u001b[0;31m     \u001b[0mtrans\u001b[0m \u001b[0;34m=\u001b[0m \u001b[0mcurrent_a\u001b[0m\u001b[0;34m[\u001b[0m\u001b[0mi\u001b[0m\u001b[0;34m,\u001b[0m \u001b[0;34m:\u001b[0m\u001b[0;34m]\u001b[0m\u001b[0;34m.\u001b[0m\u001b[0mcopy\u001b[0m\u001b[0;34m(\u001b[0m\u001b[0;34m)\u001b[0m \u001b[0;34m/\u001b[0m \u001b[0;34m-\u001b[0m\u001b[0;34m(\u001b[0m\u001b[0mcurrent_a\u001b[0m\u001b[0;34m[\u001b[0m\u001b[0mi\u001b[0m\u001b[0;34m,\u001b[0m \u001b[0mi\u001b[0m\u001b[0;34m]\u001b[0m\u001b[0;34m)\u001b[0m \u001b[0;34m/\u001b[0m \u001b[0mmath\u001b[0m\u001b[0;34m.\u001b[0m\u001b[0msqrt\u001b[0m\u001b[0;34m(\u001b[0m\u001b[0mcurrent_a\u001b[0m\u001b[0;34m[\u001b[0m\u001b[0mi\u001b[0m\u001b[0;34m,\u001b[0m \u001b[0mi\u001b[0m\u001b[0;34m]\u001b[0m\u001b[0;34m)\u001b[0m\u001b[0;34m\u001b[0m\u001b[0m\n\u001b[0m\u001b[1;32m     27\u001b[0m     \u001b[0mtrans\u001b[0m\u001b[0;34m[\u001b[0m\u001b[0mi\u001b[0m\u001b[0;34m]\u001b[0m \u001b[0;34m*=\u001b[0m \u001b[0;34m-\u001b[0m\u001b[0;36m1\u001b[0m\u001b[0;34m\u001b[0m\u001b[0m\n\u001b[1;32m     28\u001b[0m \u001b[0;34m\u001b[0m\u001b[0m\n",
      "\u001b[0;31mNameError\u001b[0m: name 'math' is not defined"
     ]
    }
   ],
   "source": [
    "current_a = a.copy()\n",
    "guess = a.copy()\n",
    "current_M = np.eye(n, n)\n",
    "\n",
    "for i in range(n):\n",
    "    if not current_a[i, i]:\n",
    "        max_ind = i\n",
    "        for j in range(i + 1, n):\n",
    "            if abs(current_a[i][j]) > abs(current_a[i][max_ind]):\n",
    "                max_ind = current_a[i][j]\n",
    "        M = np.eye(n)\n",
    "#         M[max_ind, max_ind] = 0\n",
    "#         M[i, i] = 0\n",
    "#         M[i, max_ind] = 1\n",
    "        M[max_ind, i] = 1\n",
    "        \n",
    "        current_M = current_M.dot(M)\n",
    "        current_a = M.T.dot(current_a.dot(M))\n",
    "        print('M:\\n{}'.format(M))\n",
    "        print('a:\\n{}'.format(current_a))\n",
    "        print()     \n",
    "        print()\n",
    "        print()\n",
    "\n",
    "        \n",
    "    trans = current_a[i, :].copy() / -(current_a[i, i]) / math.sqrt(current_a[i, i])\n",
    "    trans[i] *= -1\n",
    "\n",
    "    M = np.vstack([np.eye(i, n), trans, np.eye(n - i - 1, n, i + 1)])\n",
    "    current_M = current_M.dot(M)\n",
    "    current_a = M.T.dot(current_a.dot(M))\n",
    "    print('M:\\n{}'.format(M))\n",
    "    print('all_M:\\n{}'.format(current_M))\n",
    "    print('a:\\n{}'.format(current_a))\n",
    "    print()\n",
    "    print()\n",
    "    print()\n",
    "    print()\n",
    "        \n",
    "np.set_printoptions(precision=2)\n",
    "print(current_a)\n",
    "print(current_M.T.dot(a.dot(current_M)))\n",
    "    \n",
    "# print(M.dot(a.dot(M.T)))\n",
    "# print(M.T.dot(a.dot(M)))\n",
    "# print()\n",
    "# print(Mi.dot(a.dot(Mi.T)))\n",
    "# print(Mi.T.dot(a.dot(Mi)))"
   ]
  },
  {
   "cell_type": "code",
   "execution_count": 18,
   "metadata": {
    "collapsed": false,
    "scrolled": false
   },
   "outputs": [
    {
     "name": "stdout",
     "output_type": "stream",
     "text": [
      "[[ 1.   -0.93 -0.36 -0.33 -1.39]\n",
      " [ 0.    1.    0.    0.    0.  ]\n",
      " [ 0.    0.    1.    0.    0.  ]\n",
      " [ 0.    0.    0.    1.    0.  ]\n",
      " [ 0.    0.    0.    0.    1.  ]]\n",
      "\n",
      "[[ 1.   -0.93 -0.36 -0.33 -1.39]\n",
      " [ 0.    1.    0.    0.    0.  ]\n",
      " [ 0.    0.    1.    0.    0.  ]\n",
      " [ 0.    0.    0.    1.    0.  ]\n",
      " [ 0.    0.    0.    0.    1.  ]]\n",
      "\n",
      "\n",
      "\n",
      "\n",
      "[[ 1.    0.    0.    0.    0.  ]\n",
      " [ 0.    1.   -2.21  1.62 -2.22]\n",
      " [ 0.    0.    1.    0.    0.  ]\n",
      " [ 0.    0.    0.    1.    0.  ]\n",
      " [ 0.    0.    0.    0.    1.  ]]\n",
      "\n",
      "[[ 1.   -0.93  1.7  -1.84  0.68]\n",
      " [ 0.    1.   -2.21  1.62 -2.22]\n",
      " [ 0.    0.    1.    0.    0.  ]\n",
      " [ 0.    0.    0.    1.    0.  ]\n",
      " [ 0.    0.    0.    0.    1.  ]]\n",
      "\n",
      "\n",
      "\n",
      "\n",
      "[[ 1.    0.    0.    0.    0.  ]\n",
      " [ 0.    1.    0.    0.    0.  ]\n",
      " [-0.   -0.    1.    0.74 -1.34]\n",
      " [ 0.    0.    0.    1.    0.  ]\n",
      " [ 0.    0.    0.    0.    1.  ]]\n",
      "\n",
      "[[ 1.   -0.93  1.7  -0.59 -1.6 ]\n",
      " [ 0.    1.   -2.21 -0.01  0.74]\n",
      " [ 0.    0.    1.    0.74 -1.34]\n",
      " [ 0.    0.    0.    1.    0.  ]\n",
      " [ 0.    0.    0.    0.    1.  ]]\n",
      "\n",
      "\n",
      "\n",
      "\n",
      "[[ 1.    0.    0.    0.    0.  ]\n",
      " [ 0.    1.    0.    0.    0.  ]\n",
      " [ 0.    0.    1.    0.    0.  ]\n",
      " [-0.   -0.   -0.    1.    0.91]\n",
      " [ 0.    0.    0.    0.    1.  ]]\n",
      "\n",
      "[[ 1.   -0.93  1.7  -0.59 -2.14]\n",
      " [ 0.    1.   -2.21 -0.01  0.74]\n",
      " [ 0.    0.    1.    0.74 -0.67]\n",
      " [ 0.    0.    0.    1.    0.91]\n",
      " [ 0.    0.    0.    0.    1.  ]]\n",
      "\n",
      "\n",
      "\n",
      "\n",
      "[[ 1.  0.  0.  0.  0.]\n",
      " [ 0.  1.  0.  0.  0.]\n",
      " [ 0.  0.  1.  0.  0.]\n",
      " [ 0.  0.  0.  1.  0.]\n",
      " [ 0.  0.  0.  0.  1.]]\n",
      "\n",
      "[[ 1.   -0.93  1.7  -0.59 -2.14]\n",
      " [ 0.    1.   -2.21 -0.01  0.74]\n",
      " [ 0.    0.    1.    0.74 -0.67]\n",
      " [ 0.    0.    0.    1.    0.91]\n",
      " [ 0.    0.    0.    0.    1.  ]]\n",
      "\n",
      "\n",
      "\n",
      "\n",
      "\n",
      "[[  3.96e+00   0.00e+00   0.00e+00   2.22e-16  -1.78e-15]\n",
      " [  0.00e+00  -3.74e+00   0.00e+00  -1.10e-15   1.66e-15]\n",
      " [  0.00e+00   0.00e+00   1.57e+01   1.01e-15   1.42e-15]\n",
      " [  2.22e-16   0.00e+00  -1.78e-15   2.89e+00   7.62e-16]\n",
      " [ -1.78e-15   0.00e+00   0.00e+00  -4.44e-16  -2.63e+01]]\n"
     ]
    }
   ],
   "source": [
    "current_a = a.copy()\n",
    "guess = a.copy()\n",
    "current_M = np.eye(n, n)\n",
    "\n",
    "for i in range(n):\n",
    "    trans = guess[i, :].copy() / -guess[i, i]\n",
    "    trans[i] *= -1\n",
    "    \n",
    "    M = np.vstack([np.eye(i, n), trans, np.eye(n - i - 1, n, i + 1)])\n",
    "#     Mi = np.linalg.inv(M)\n",
    "    \n",
    "    for j in range(i+ 1, n):\n",
    "        for k in range(n):\n",
    "            guess[j, k] -= guess[i, j] * guess[i, k] / guess[i, i]\n",
    "    guess[i, :i] = 0\n",
    "    guess[i, i + 1:] = 0\n",
    "    guess[:i, i] = 0\n",
    "    guess[i + 1:, i] = 0\n",
    "\n",
    "    current_M = current_M.dot(M)\n",
    "    print(M)\n",
    "    print()\n",
    "    print(current_M)\n",
    "    print()\n",
    "    print()\n",
    "    print()\n",
    "    print()\n",
    "\n",
    "\n",
    "    \n",
    "print()\n",
    "np.set_printoptions(precision=2)\n",
    "print(current_M.T.dot(a.dot(current_M)))\n",
    "    \n",
    "# print(M.dot(a.dot(M.T)))\n",
    "# print(M.T.dot(a.dot(M)))\n",
    "# print()\n",
    "# print(Mi.dot(a.dot(Mi.T)))\n",
    "# print(Mi.T.dot(a.dot(Mi)))"
   ]
  },
  {
   "cell_type": "code",
   "execution_count": null,
   "metadata": {
    "collapsed": true
   },
   "outputs": [],
   "source": []
  }
 ],
 "metadata": {
  "kernelspec": {
   "display_name": "Python 3",
   "language": "python",
   "name": "python3"
  },
  "language_info": {
   "codemirror_mode": {
    "name": "ipython",
    "version": 3
   },
   "file_extension": ".py",
   "mimetype": "text/x-python",
   "name": "python",
   "nbconvert_exporter": "python",
   "pygments_lexer": "ipython3",
   "version": "3.5.1+"
  }
 },
 "nbformat": 4,
 "nbformat_minor": 0
}
